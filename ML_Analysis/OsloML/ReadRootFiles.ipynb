{
 "cells": [
  {
   "cell_type": "code",
   "execution_count": 1,
   "metadata": {},
   "outputs": [
    {
     "name": "stdout",
     "output_type": "stream",
     "text": [
      "importing Jupyter notebook from OpenDataPandaFramework.ipynb\n"
     ]
    }
   ],
   "source": [
    "import import_ipynb\n",
    "from OpenDataPandaFramework import *"
   ]
  },
  {
   "cell_type": "markdown",
   "metadata": {},
   "source": [
    "The following parameters should be set to specify how many events will be read in every chunk, the directory for the files you would like to convert into hd5 files and a tag wich will be appended to the output filename to reflect the skimming applied"
   ]
  },
  {
   "cell_type": "code",
   "execution_count": 2,
   "metadata": {},
   "outputs": [
    {
     "name": "stdout",
     "output_type": "stream",
     "text": [
      "INFO \t Data type is SM_Backgrounds\n"
     ]
    }
   ],
   "source": [
    "# The luminosity we run over\n",
    "lumi = 10.6\n",
    "# How many events to read in each round\n",
    "chunksize = 500000\n",
    "# How often to write to hd5 file (the smaller, the more files)\n",
    "printevry = 500000\n",
    "# Directory containing the input file (must end with .root)\n",
    "indir   = \"/home/michael/Desktop/OpenData/SM_Backgrounds\"\n",
    "#indir   = \"/scratch3/eirikgr/openData_13TeV/MC/SM_Backgrounds/\"\n",
    "# The output file name tag to store the skim options used abvove\n",
    "datatype = indir.split(\"/\")[-1]\n",
    "# In cases there is a trailing / at the end\n",
    "if not datatype: datatype = indir.split(\"/\")[-2]\n",
    "print(\"INFO \\t Data type is {:s}\".format(datatype))\n",
    "\n",
    "# Define if it is signal or background (important for ML classification)\n",
    "isMC = False\n",
    "isData = False\n",
    "isSignal = False\n",
    "if datatype == \"SM_Backgrounds\":\n",
    "    isMC = True\n",
    "elif datatype == \"BSM_Signal_Samples\":\n",
    "    isSignal = True\n",
    "elif datatype == \"Data\" or datatype == 'data':\n",
    "    isData = True\n",
    "else:\n",
    "    print(\"ERROR \\t Datatype {:s} is unknown. Setting as background\".format(datatype))\n",
    "    isMC = True\n",
    "    \n",
    "nlep = 2\n",
    "lep_ptcut = [25000,25000]\n",
    "skimtag = \"2L_pt25_25_met50\""
   ]
  },
  {
   "cell_type": "markdown",
   "metadata": {},
   "source": [
    "Specify the branches to keep in the hd5 files. If you like to check all the availale brances open a file and do events.keys()"
   ]
  },
  {
   "cell_type": "code",
   "execution_count": 3,
   "metadata": {},
   "outputs": [],
   "source": [
    "branches = ['eventNumber','channelNumber',\n",
    "            'mcWeight','scaleFactor_PILEUP','scaleFactor_ELE','scaleFactor_MUON',\n",
    "            'scaleFactor_BTAG','scaleFactor_LepTRIGGER',\n",
    "            'met_*','jet_*','lep_*']#'jet_n']#'jet_*']#,'photon_*','fatjet_*','tau_*','lep_*',\n",
    "            #'ditau_m','truth_*']\n",
    "#branches = [\"*\"]"
   ]
  },
  {
   "cell_type": "code",
   "execution_count": 4,
   "metadata": {},
   "outputs": [
    {
     "name": "stdout",
     "output_type": "stream",
     "text": [
      "WARNING\t Result does not exists. Good :-)\n"
     ]
    },
    {
     "ename": "FileNotFoundError",
     "evalue": "[Errno 2] No such file or directory: '/home/michael/Desktop/OpenData/SM_Backgrounds'",
     "output_type": "error",
     "traceback": [
      "\u001b[0;31m---------------------------------------------------------------------------\u001b[0m",
      "\u001b[0;31mFileNotFoundError\u001b[0m                         Traceback (most recent call last)",
      "\u001b[0;32m<ipython-input-4-a47fe4b2d0eb>\u001b[0m in \u001b[0;36m<module>\u001b[0;34m\u001b[0m\n\u001b[0;32m----> 1\u001b[0;31m \u001b[0mres\u001b[0m \u001b[0;34m=\u001b[0m \u001b[0mOpenDataPandaFramework\u001b[0m\u001b[0;34m(\u001b[0m\u001b[0mindir\u001b[0m\u001b[0;34m,\u001b[0m\u001b[0mnlep\u001b[0m\u001b[0;34m,\u001b[0m \u001b[0mchunksize\u001b[0m\u001b[0;34m,\u001b[0m \u001b[0mprintevry\u001b[0m\u001b[0;34m,\u001b[0m \u001b[0mdatatype\u001b[0m\u001b[0;34m,\u001b[0m \u001b[0mskimtag\u001b[0m\u001b[0;34m,\u001b[0m \u001b[0misMC\u001b[0m\u001b[0;34m,\u001b[0m \u001b[0misData\u001b[0m\u001b[0;34m,\u001b[0m \u001b[0misSignal\u001b[0m\u001b[0;34m,\u001b[0m \u001b[0mlep_ptcut\u001b[0m\u001b[0;34m,\u001b[0m \u001b[0mbranches\u001b[0m\u001b[0;34m,\u001b[0m \u001b[0mlumi\u001b[0m\u001b[0;34m)\u001b[0m\u001b[0;34m\u001b[0m\u001b[0;34m\u001b[0m\u001b[0m\n\u001b[0m",
      "\u001b[0;32m~/FYS5555/ML_Analysis/OsloML/OpenDataPandaFramework.ipynb\u001b[0m in \u001b[0;36mOpenDataPandaFramework\u001b[0;34m(indir, nlep, chunksize, printevry, datatype, skimtag, isMC, isData, isSignal, lep_ptcut, branches, lumi)\u001b[0m\n",
      "\u001b[0;31mFileNotFoundError\u001b[0m: [Errno 2] No such file or directory: '/home/michael/Desktop/OpenData/SM_Backgrounds'"
     ]
    }
   ],
   "source": [
    "res = OpenDataPandaFramework(indir,nlep, chunksize, printevry, datatype, skimtag, isMC, isData, isSignal, lep_ptcut, branches, lumi)"
   ]
  },
  {
   "cell_type": "code",
   "execution_count": null,
   "metadata": {},
   "outputs": [],
   "source": [
    "del[res]"
   ]
  },
  {
   "cell_type": "code",
   "execution_count": null,
   "metadata": {},
   "outputs": [],
   "source": [
    "print(\"hei\")"
   ]
  }
 ],
 "metadata": {
  "kernelspec": {
   "display_name": "Python 3",
   "language": "python",
   "name": "python3"
  },
  "language_info": {
   "codemirror_mode": {
    "name": "ipython",
    "version": 3
   },
   "file_extension": ".py",
   "mimetype": "text/x-python",
   "name": "python",
   "nbconvert_exporter": "python",
   "pygments_lexer": "ipython3",
   "version": "3.7.3"
  }
 },
 "nbformat": 4,
 "nbformat_minor": 2
}
